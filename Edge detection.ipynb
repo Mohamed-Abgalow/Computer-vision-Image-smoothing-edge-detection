{
  "nbformat": 4,
  "nbformat_minor": 0,
  "metadata": {
    "colab": {
      "name": "Untitled3.ipynb",
      "provenance": [],
      "collapsed_sections": []
    },
    "kernelspec": {
      "name": "python3",
      "display_name": "Python 3"
    },
    "language_info": {
      "name": "python"
    }
  },
  "cells": [
    {
      "cell_type": "code",
      "execution_count": null,
      "metadata": {
        "id": "6rfjGuYqD3Jw"
      },
      "outputs": [],
      "source": [
        "import cv2\n",
        "import numpy as np"
      ]
    },
    {
      "cell_type": "code",
      "source": [
        "image = cv2.imread('original_images/frame18757.jpg')\n",
        "\n",
        "# Print error message if image is null\n",
        "if image is None:\n",
        "    print('Could not read image')"
      ],
      "metadata": {
        "id": "6RUXtplQD7Ov"
      },
      "execution_count": null,
      "outputs": []
    },
    {
      "cell_type": "code",
      "source": [
        "# Convert to graycsale\n",
        "img_gray = cv2.cvtColor(image, cv2.COLOR_BGR2GRAY)\n",
        "cv2.imshow('image grey', img_gray)\n",
        "cv2.waitKey()\n",
        "cv2.destroyAllWindows()"
      ],
      "metadata": {
        "id": "rnCQlAB5D_U0"
      },
      "execution_count": null,
      "outputs": []
    },
    {
      "cell_type": "code",
      "source": [
        "# Blur the image for better edge detection\n",
        "img_blur = cv2.GaussianBlur(img_gray, (3,3), 0) \n",
        "cv2.imshow('image blur', img_blur)\n",
        "cv2.waitKey()\n",
        "cv2.destroyAllWindows()"
      ],
      "metadata": {
        "id": "AuWmR1qqEAD3"
      },
      "execution_count": null,
      "outputs": []
    },
    {
      "cell_type": "markdown",
      "source": [
        "Sobel Edge Detection"
      ],
      "metadata": {
        "id": "-yrjne-IEEsw"
      }
    },
    {
      "cell_type": "code",
      "source": [
        "# Sobel Edge Detection\n",
        "sobelx = cv2.Sobel(src=img_blur, ddepth=cv2.CV_64F, dx=1, dy=0, ksize=5) \n",
        "# Sobel Edge Detection on the X axis\n",
        "\n",
        "cv2.imshow('sobel x', sobelx)\n",
        "cv2.waitKey()\n",
        "cv2.destroyAllWindows()"
      ],
      "metadata": {
        "id": "ClhO1zQzEGZw"
      },
      "execution_count": null,
      "outputs": []
    },
    {
      "cell_type": "code",
      "source": [
        "# Sobel Edge Detection\n",
        "sobely = cv2.Sobel(src=img_blur, ddepth=cv2.CV_64F, dx=0, dy=1, ksize=5) \n",
        "# Sobel Edge Detection on the X axis\n",
        "\n",
        "cv2.imshow('sobel y', sobely)\n",
        "cv2.waitKey()\n",
        "cv2.destroyAllWindows()"
      ],
      "metadata": {
        "id": "v01Z-Xe3EQLM"
      },
      "execution_count": null,
      "outputs": []
    },
    {
      "cell_type": "code",
      "source": [
        "# Sobel Edge Detection\n",
        "sobelxy = cv2.Sobel(src=img_blur, ddepth=cv2.CV_64F, dx=1, dy=1, ksize=5)\n",
        " # Sobel Edge Detection on the X axis\n",
        "\n",
        "cv2.imshow('sobel x y', sobelxy)\n",
        "cv2.waitKey()\n",
        "cv2.destroyAllWindows()"
      ],
      "metadata": {
        "id": "wQcmYilIEaD5"
      },
      "execution_count": null,
      "outputs": []
    },
    {
      "cell_type": "markdown",
      "source": [
        "Roberts Edge detector"
      ],
      "metadata": {
        "id": "trUhxV0FEm0v"
      }
    },
    {
      "cell_type": "code",
      "source": [
        "from scipy import ndimage\n",
        "\n",
        "image = cv2.imread('original_images/frame18757.jpg', 0)\n",
        "roberts_cross_v = np.array( [[1, 0 ],\n",
        "\t\t\t\t\t\t\t[0,-1 ]] )\n",
        "\n",
        "roberts_cross_h = np.array( [[ 0, 1 ],\n",
        "\t\t\t\t\t\t\t[ -1, 0 ]] )\n",
        "\n",
        "img_roberts = image.astype('float64')\n",
        "img_roberts/=255.0\n",
        "vertical = ndimage.convolve( img_roberts, roberts_cross_v )\n",
        "horizontal = ndimage.convolve( img_roberts, roberts_cross_h )\n",
        "\n",
        "edged_img = np.sqrt( np.square(horizontal) + np.square(vertical))\n",
        "edged_img*=255"
      ],
      "metadata": {
        "id": "fiQAjuLIEqxI"
      },
      "execution_count": null,
      "outputs": []
    },
    {
      "cell_type": "code",
      "source": [
        "cv2.imshow('Roberts Image', edged_img)\n",
        "cv2.waitKey()\n",
        "cv2.destroyAllWindows()"
      ],
      "metadata": {
        "id": "jzwS4qK5EXyk"
      },
      "execution_count": null,
      "outputs": []
    },
    {
      "cell_type": "markdown",
      "source": [
        "Prewitt Edge Detector"
      ],
      "metadata": {
        "id": "GbhItJrHEvjM"
      }
    },
    {
      "cell_type": "code",
      "source": [
        "img_prewit = cv2.imread('original_images/frame18757.jpg', cv2.COLOR_BGR2GRAY)\n",
        "rgb_img_prewit = cv2.cvtColor(img_prewit, cv2.COLOR_BGR2RGB)\n",
        "\n",
        "# Grayscale image processing\n",
        "grayImage_prewit = cv2.cvtColor(img_prewit, cv2.COLOR_BGR2GRAY)\n",
        "\n",
        "# Prewitt operator\n",
        "kernelx = np.array([[1, 1, 1], [0 ,0 ,0], [- 1, - 1,- 1]],dtype=int)\n",
        "kernely = np.array([[- 1, 0, 1], [- 1 ,0 ,1], [- 1, 0, 1]],dtype=int)\n",
        "\n",
        "x = cv2.filter2D(grayImage_prewit, cv2.CV_16S, kernelx)\n",
        "y = cv2.filter2D(grayImage_prewit, cv2.CV_16S, kernely)\n",
        "\n",
        "# turn to uint8, image fusion\n",
        "absX = cv2.convertScaleAbs(x)\n",
        "absY = cv2.convertScaleAbs(y)\n",
        "Prewitt = cv2.addWeighted(absX, 0.5, absY, 0.5,0)"
      ],
      "metadata": {
        "id": "0ZiXNadnEyyH"
      },
      "execution_count": null,
      "outputs": []
    },
    {
      "cell_type": "code",
      "source": [
        "cv2.imshow('Prewitt Image', Prewitt)\n",
        "cv2.waitKey()\n",
        "cv2.destroyAllWindows()"
      ],
      "metadata": {
        "id": "uy2OPRlaE171"
      },
      "execution_count": null,
      "outputs": []
    },
    {
      "cell_type": "markdown",
      "source": [
        "Advantages of Sobel Detector\n",
        "1. Good at searching for smooth edges\n",
        "2. Resources and time saving\n",
        "Disadvantages of Sobel Edge Detector\n",
        "1. Very sensitive to noise\n",
        "2. It doesnot the edges accurately\n",
        "Advantages of Prewitt Edge Detector\n",
        "1. It can detect edges and their orientations.\n",
        "2. It provides a approximation to the gradient magnitude.\n",
        "Disadvantages of Prewitt Edge Detector\n",
        "1. It cannot produce accurate edge detection with thin and smooth edge.\n",
        "2. It is limited to only eight possible orientations\n",
        "Advantages of Robert Edge Detector\n",
        "1. It can easily detect edges and orientation\n",
        "2. It isvery quick to compute. \n",
        "Disadvantages of Robert Edge Detector\n",
        "1.It produces very weak responses to genuine edges unless they are very sharp.\n"
      ],
      "metadata": {
        "id": "hntrRByVFD8a"
      }
    }
  ]
}