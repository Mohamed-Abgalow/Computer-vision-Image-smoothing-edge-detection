{
  "nbformat": 4,
  "nbformat_minor": 0,
  "metadata": {
    "colab": {
      "name": "Untitled2.ipynb",
      "provenance": [],
      "collapsed_sections": []
    },
    "kernelspec": {
      "name": "python3",
      "display_name": "Python 3"
    },
    "language_info": {
      "name": "python"
    }
  },
  "cells": [
    {
      "cell_type": "markdown",
      "source": [
        "Mohamed Hassan Mohamed   \n",
        "2100723726    \n",
        "2021/HD05/23726X"
      ],
      "metadata": {
        "id": "A9_uP4n-zcp1"
      }
    },
    {
      "cell_type": "code",
      "source": [
        "import cv2\n",
        "import numpy as np\n",
        "from google.colab.patches import cv2_imshow"
      ],
      "metadata": {
        "id": "zYst0OzEzkxF"
      },
      "execution_count": null,
      "outputs": []
    },
    {
      "cell_type": "code",
      "source": [
        "# Read an Image\n",
        "image = cv2.imread('original_images/frame18757.jpg')\n",
        "\n",
        "# Print error message if image is null\n",
        "if image is None:\n",
        "    print('Could not read image')"
      ],
      "metadata": {
        "colab": {
          "base_uri": "https://localhost:8080/"
        },
        "id": "vJDuAowh0Ef1",
        "outputId": "19e573a4-38e0-4fa2-9511-e50fa2345954"
      },
      "execution_count": null,
      "outputs": [
        {
          "output_type": "stream",
          "name": "stdout",
          "text": [
            "Could not read image\n"
          ]
        }
      ]
    },
    {
      "cell_type": "code",
      "source": [
        "# View the Image\n",
        "cv2.imshow('Original', image)\n",
        "cv2.waitKey()\n",
        "#cv2.imwrite('identity.jpg', identity)\n",
        "cv2.destroyAllWindows()"
      ],
      "metadata": {
        "id": "9IOH-5pEBcRZ"
      },
      "execution_count": null,
      "outputs": []
    },
    {
      "cell_type": "markdown",
      "source": [
        "Image Filters using 3X3 matrix"
      ],
      "metadata": {
        "id": "u_swxlIg0n_S"
      }
    },
    {
      "cell_type": "code",
      "source": [
        "#using the blur function - Average Blur\n",
        "\n",
        "img_blur = cv2.blur(src=image, ksize=(3,3)) \n",
        "# Used the blur function to blur an image where ksize is the kernel size"
      ],
      "metadata": {
        "id": "Z88eSPXE1KD1"
      },
      "execution_count": null,
      "outputs": []
    },
    {
      "cell_type": "code",
      "source": [
        "cv2.imshow('Original', image)\n",
        "cv2.imshow('Blur func', img_blur)\n",
        "    \n",
        "cv2.waitKey()\n",
        "cv2.imwrite('new_images/average_filter_3.jpg', img_blur)\n",
        "cv2.destroyAllWindows()"
      ],
      "metadata": {
        "id": "fquV7n6X1NYF"
      },
      "execution_count": null,
      "outputs": []
    },
    {
      "cell_type": "code",
      "source": [
        "# Gaussian Blur\n",
        "gaussian_blur = cv2.GaussianBlur(src=image, ksize=(3,3), sigmaX=0, sigmaY=0)"
      ],
      "metadata": {
        "id": "RDhlVLaa1Xcm"
      },
      "execution_count": null,
      "outputs": []
    },
    {
      "cell_type": "code",
      "source": [
        "cv2.imshow('Original', image)\n",
        "cv2.imshow('Gausssian Blur', gaussian_blur)\n",
        "    \n",
        "cv2.waitKey()\n",
        "cv2.imwrite('new_images/gaussian_filter_3.jpg', gaussian_blur)\n",
        "cv2.destroyAllWindows()"
      ],
      "metadata": {
        "id": "M7SclH4b1g8g"
      },
      "execution_count": null,
      "outputs": []
    },
    {
      "cell_type": "code",
      "source": [
        "# Median Blur\n",
        "median_blur = cv2.medianBlur(src=image, ksize=3)"
      ],
      "metadata": {
        "id": "jf_zPsjp1j0X"
      },
      "execution_count": null,
      "outputs": []
    },
    {
      "cell_type": "code",
      "source": [
        "cv2.imshow('Original', image)\n",
        "cv2.imshow('Median Blur', median_blur)\n",
        "    \n",
        "cv2.waitKey()\n",
        "cv2.imwrite('new_images/median_filter_3.jpg', median_blur)\n",
        "cv2.destroyAllWindows()"
      ],
      "metadata": {
        "id": "gvpUQNtb1pZ7"
      },
      "execution_count": null,
      "outputs": []
    },
    {
      "cell_type": "markdown",
      "source": [
        "Image Filters with 7X7"
      ],
      "metadata": {
        "id": "_-Hsm3ee1rS_"
      }
    },
    {
      "cell_type": "code",
      "source": [
        "#using the blur function - Average Blur\n",
        "\n",
        "img_blur = cv2.blur(src=image, ksize=(7,7)) # Using the blur function to blur an image where ksize is the kernel size\n",
        "\n",
        "cv2.imshow('Original', image)\n",
        "cv2.imshow('Blur func', img_blur)\n",
        "    \n",
        "cv2.waitKey()\n",
        "cv2.imwrite('new_images/average_filter_7.jpg', img_blur)\n",
        "cv2.destroyAllWindows()"
      ],
      "metadata": {
        "id": "i4zx_P-D1w9Q"
      },
      "execution_count": null,
      "outputs": []
    },
    {
      "cell_type": "code",
      "source": [
        "# Gaussian Blur\n",
        "gaussian_blur = cv2.GaussianBlur(src=image, ksize=(7,7), sigmaX=0, sigmaY=0)\n",
        "\n",
        "cv2.imshow('Original', image)\n",
        "cv2.imshow('Gausssian Blur', gaussian_blur)\n",
        "    \n",
        "cv2.waitKey()\n",
        "cv2.imwrite('new_images/gaussian_filter_7.jpg', gaussian_blur)\n",
        "cv2.destroyAllWindows()"
      ],
      "metadata": {
        "id": "l60rt80P15d-"
      },
      "execution_count": null,
      "outputs": []
    },
    {
      "cell_type": "code",
      "source": [
        "# Median Blur\n",
        "median_blur = cv2.medianBlur(src=image, ksize=7)\n",
        "\n",
        "cv2.imshow('Original', image)\n",
        "cv2.imshow('Median Blur', median_blur)\n",
        "    \n",
        "cv2.waitKey()\n",
        "cv2.imwrite('new_images/median_filter_7.jpg', median_blur)\n",
        "cv2.destroyAllWindows()"
      ],
      "metadata": {
        "id": "3SxDoyW2181r"
      },
      "execution_count": null,
      "outputs": []
    },
    {
      "cell_type": "markdown",
      "source": [
        "Sharpening Images"
      ],
      "metadata": {
        "id": "j5IbJafq2K0k"
      }
    },
    {
      "cell_type": "code",
      "source": [
        "\"\"\"\n",
        "Apply Bilateral Filtering\n",
        "\"\"\"\n",
        "# Using the function bilateralFilter() where d is diameter of each...\n",
        "# ...pixel neighborhood that is used during filtering.\n",
        "# sigmaColor is used to filter sigma in the color space.\n",
        "# sigmaSpace is used to filter sigma in the coordinate space.\n",
        "bilateral_filter = cv2.bilateralFilter(src=image, d=9, sigmaColor=500, sigmaSpace=500)\n",
        "\n",
        "cv2.imshow('Original', image)\n",
        "cv2.imshow('Bilateral Filtering', bilateral_filter)\n",
        "\n",
        "cv2.waitKey(0)\n",
        "#cv2.imwrite('bilateral_filtering.jpg', bilateral_filter)\n",
        "cv2.destroyAllWindows()"
      ],
      "metadata": {
        "id": "wC42bKO7Bv4M"
      },
      "execution_count": null,
      "outputs": []
    },
    {
      "cell_type": "markdown",
      "source": [
        "Assess the performance of the following image filters in relation to image smoothing(Blurring) and sharpening.\n",
        "\n",
        "Median filter\n",
        "\n",
        "The median filter does not produce new, irrational pixel values when it crosses an edge because the median value must be the value of one of the pixels in the neighborhood. For this reason, the median filter is much better at preserving sharp edges than the mean filter. It is a non-linear filter that is mostly used as a simple way to reduce noise in an image. It claims to fame (over Gaussian for noise reduction) is that it removes noise while keeping edges relatively sharp.\n",
        "\n",
        "Average filter\n",
        "If you want to eliminate noise from an image, the mean filter is quick and likely the best option. If you wish to distinguish frequencies present in the image, it is a poor solution.\n",
        "\n",
        "Gaussian filter\n",
        "Gaussian smoothing produces an image that is rotationally symmetric. It is applied the same no matter what direction you go in.\n",
        "\n",
        "\n",
        "Compare and contrast the performance\n",
        "Gaussian smoothing could make it much more difficult to inspect minute details if your use case calls for it. Black and white pixels that appear in sporadic patterns are known as salt-and-pepper noise. In general, median filters are more effective at controlling salt-and-pepper noise than Gaussian smoothing.\n",
        "Gaussian blurring is a linear operation. However, it does not preserve edges in the input image - the value of sigma governs the degree of smoothing, and eventually how the edges are preserved.\n",
        "\n",
        "median filter is edge preserving\n",
        "\n",
        "Gaussian filters may blur the edges while median filters are best for salt and pepper type of noise.\n",
        "\n",
        "Gaussian filter uses convolution and is very slow. If you implement Mean filter using recursive formula it will run like lightning. Applying Mean filter many times you can speed up Gaussian implementation 1000 times.\n",
        "\n",
        "\n",
        "By varying the filters from 3x3 to 7x7 and α =1 to 5. What effect does it have on the output?\n",
        "The value of sigma governs the degree of smoothing, and eventually how the edges are preserved\n",
        "An increase in the value of sigma increases the smoothing of the image.\n",
        "An increase in the matrix from 3x3 to 7X7 increases the blurriness of an image."
      ],
      "metadata": {
        "id": "HqLjLkLu2ddP"
      }
    }
  ]
}